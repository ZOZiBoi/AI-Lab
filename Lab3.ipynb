{
 "cells": [
  {
   "cell_type": "markdown",
   "metadata": {},
   "source": [
    "# Linear Merge"
   ]
  },
  {
   "cell_type": "markdown",
   "metadata": {},
   "source": [
    "Given two lists sorted in increasing order, create and return a merged list of all the elements in s\n",
    "orted order. You may modify the passed in lists. Ideally, the solution should work in \"linear\" tim\n",
    "e, making a single pass of both lists."
   ]
  },
  {
   "cell_type": "code",
   "execution_count": null,
   "metadata": {},
   "outputs": [],
   "source": [
    "def linear_merge(list1, list2):\n",
    "    merged_list = []\n",
    "    i, j = 0, 0\n",
    "\n",
    "    while i < len(list1) and j < len(list2):\n",
    "        if list1[i] < list2[j]:\n",
    "            merged_list.append(list1[i])\n",
    "            i += 1\n",
    "        else:\n",
    "            merged_list.append(list2[j])\n",
    "            j += 1\n",
    "\n",
    "    # Append remaining elements of list1 or list2\n",
    "    merged_list.extend(list1[i:])\n",
    "    merged_list.extend(list2[j:])\n",
    "\n",
    "    return merged_list\n",
    "\n",
    "# Example usage\n",
    "list1 = [1, 3, 5, 7]\n",
    "list2 = [2, 4, 6, 8]\n",
    "print(linear_merge(list1, list2))"
   ]
  },
  {
   "cell_type": "markdown",
   "metadata": {},
   "source": [
    "# Initialize dictionary\n",
    "Initialize dictionary with default values. One line solution.\n",
    "Input:\n",
    "employees = ['Kelly', 'Emma', 'John']\n",
    "defaults = {\"designation\": 'Application Developer', \"salary\": 8000}\n",
    "Output:\n",
    "{'Kelly': {'designation': 'Application Developer', 'salary': 8000}, 'Emma': {'designation':\n",
    "'Application Developer', 'salary': 8000}, 'John': {'designation': 'Application Developer', 'salary':\n",
    "8000}}"
   ]
  },
  {
   "cell_type": "code",
   "execution_count": null,
   "metadata": {},
   "outputs": [],
   "source": [
    "employees = ['Kelly', 'Emma', 'John']\n",
    "defaults = {\"designation\": 'Application Developer', \"salary\": 8000}\n",
    "employee_dict = dict.fromkeys(employees, defaults)\n",
    "print(employee_dict)"
   ]
  },
  {
   "cell_type": "markdown",
   "metadata": {},
   "source": [
    "# Delete keys\n",
    "Delete set of keys from a dictionary. Give one line solution.\n",
    "Input:\n",
    "sampleDict = {\n",
    "\"name\": \"Kelly\",\n",
    "\"age\":25,\n",
    "\"salary\": 8000,\n",
    "\"city\": \"New york\"\n",
    "}\n",
    "keysToRemove = [\"name\", \"salary\"]\n",
    "Output:\n",
    "{'city': 'New york', 'age': 25}"
   ]
  },
  {
   "cell_type": "code",
   "execution_count": null,
   "metadata": {},
   "outputs": [],
   "source": [
    "sampleDict = {\n",
    "    \"name\": \"Kelly\",\n",
    "    \"age\": 25,\n",
    "    \"salary\": 8000,\n",
    "    \"city\": \"New york\"\n",
    "}\n",
    "keysToRemove = [\"name\", \"salary\"]\n",
    "\n",
    "sampleDict = {k: v for k, v in sampleDict.items() if k not in keysToRemove}\n",
    "print(sampleDict)"
   ]
  },
  {
   "cell_type": "markdown",
   "metadata": {},
   "source": [
    "# Set Operations \n",
    "Consider two sets X and Y. You may take any type of values for these sets. Try to find a\n",
    "solution\n",
    "to get a set having all elements in either X or Y, but not both."
   ]
  },
  {
   "cell_type": "code",
   "execution_count": null,
   "metadata": {},
   "outputs": [],
   "source": [
    "X = {1, 2, 3, 4}\n",
    "Y = {3, 4, 5, 6}\n",
    "\n",
    "symmetric_difference = X.symmetric_difference(Y)\n",
    "print(symmetric_difference)"
   ]
  },
  {
   "cell_type": "markdown",
   "metadata": {},
   "source": [
    "# Exception Handling for Division\n",
    "Write a function to divide two numbers P and Q. Implement exception handling technique\n",
    "(try..except clause) for handling possible exceptions in the scenario."
   ]
  },
  {
   "cell_type": "code",
   "execution_count": null,
   "metadata": {},
   "outputs": [],
   "source": [
    "def divide(P, Q):\n",
    "    try:\n",
    "        result = P / Q\n",
    "    except ZeroDivisionError:\n",
    "        return \"Error: Division by zero is not allowed.\"\n",
    "    except TypeError:\n",
    "        return \"Error: Both P and Q must be numbers.\"\n",
    "    return result\n",
    "\n",
    "# Example usage\n",
    "P = 10\n",
    "Q = 0\n",
    "print(divide(P, Q))\n",
    "\n",
    "P = 10\n",
    "Q = 2\n",
    "print(divide(P, Q))\n",
    "\n",
    "P = 10\n",
    "Q = 'a'\n",
    "print(divide(P, Q))"
   ]
  }
 ],
 "metadata": {
  "language_info": {
   "name": "python"
  }
 },
 "nbformat": 4,
 "nbformat_minor": 2
}
