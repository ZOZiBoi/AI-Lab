{
 "cells": [
  {
   "cell_type": "markdown",
   "metadata": {},
   "source": [
    "# Part 1: Implementation of Blind Search Algorithm"
   ]
  },
  {
   "cell_type": "code",
   "execution_count": null,
   "metadata": {},
   "outputs": [
    {
     "name": "stdout",
     "output_type": "stream",
     "text": [
      "DFS Path: [(0, 0), (0, 1), (0, 2), (0, 3), (1, 3), (1, 4), (2, 4), (2, 5), (3, 5), (4, 5), (4, 4), (5, 4), (6, 4), (6, 5), (6, 6)]\n",
      "BFS Path: [(0, 0), (0, 1), (0, 2), (1, 2), (1, 3), (1, 4), (2, 4), (2, 5), (3, 5), (4, 5), (4, 4), (5, 4), (6, 4), (6, 5), (6, 6)]\n"
     ]
    }
   ],
   "source": [
    "from collections import deque\n",
    "\n",
    "def read_cube(filename):\n",
    "    with open(filename, 'r') as file:\n",
    "        cube = []\n",
    "        for line in file:\n",
    "            row = line.strip().split()\n",
    "            row = [0 if cell in ('0', 'S', 'G') else 1 for cell in row]  # Convert to binary matrix\n",
    "            cube.append(row)\n",
    "    return cube\n",
    "\n",
    "def get_neighbors(x, y, cube):\n",
    "    directions = [(-1, 0), (1, 0), (0, -1), (0, 1)]  # Up, Down, Left, Right\n",
    "    neighbors = []\n",
    "    for dx, dy in directions:\n",
    "        nx, ny = x + dx, y + dy\n",
    "        if 0 <= nx < len(cube) and 0 <= ny < len(cube[0]) and cube[nx][ny] == 0:\n",
    "            neighbors.append((nx, ny))\n",
    "    return neighbors\n",
    "\n",
    "def dfs(cube):\n",
    "    stack = [(0, 0, [(0, 0)])]  # (x, y, path)\n",
    "    visited = set()\n",
    "    while stack:\n",
    "        x, y, path = stack.pop()\n",
    "        if (x, y) in visited:\n",
    "            continue\n",
    "        visited.add((x, y))\n",
    "        if x == len(cube) - 1 and y == len(cube[0]) - 1:\n",
    "            return path \n",
    "        for neighbor in get_neighbors(x, y, cube):\n",
    "            stack.append((*neighbor, path + [neighbor]))\n",
    "    return -1\n",
    "\n",
    "def bfs(cube):\n",
    "    queue = deque([(0, 0, [(0, 0)])])  # (x, y, path)\n",
    "    visited = set()\n",
    "    while queue:\n",
    "        x, y, path = queue.popleft()\n",
    "        if (x, y) in visited:\n",
    "            continue\n",
    "        visited.add((x, y))\n",
    "        if x == len(cube) - 1 and y == len(cube[0]) - 1:\n",
    "            return path\n",
    "        for neighbor in get_neighbors(x, y, cube):\n",
    "            queue.append((*neighbor, path + [neighbor]))\n",
    "    return -1\n",
    "\n",
    "filename = \"cube.txt\"\n",
    "cube = read_cube(filename)\n",
    "print(\"DFS Path:\", dfs(cube))\n",
    "print(\"BFS Path:\", bfs(cube))\n"
   ]
  },
  {
   "cell_type": "markdown",
   "metadata": {},
   "source": [
    "# Part 2: Implementation of A* Search"
   ]
  },
  {
   "cell_type": "code",
   "execution_count": null,
   "metadata": {},
   "outputs": [
    {
     "name": "stdout",
     "output_type": "stream",
     "text": [
      "A* Path: [(0, 0), (0, 1), (0, 2), (1, 2), (2, 2), (3, 2), (4, 2), (4, 3), (4, 4), (5, 4), (6, 4), (6, 5), (6, 6)]\n"
     ]
    }
   ],
   "source": [
    "import heapq\n",
    "\n",
    "def read_cube(filename):\n",
    "    with open(filename, 'r') as file:\n",
    "        cube = []\n",
    "        for line in file:\n",
    "            row = line.strip().split()\n",
    "            row = [0 if cell == '0' else 1 if cell == '1' else 2 for cell in row]  # Convert to binary matrix\n",
    "            cube.append(row)\n",
    "    return cube\n",
    "\n",
    "def heuristic(a, b):\n",
    "    return abs(a[0] - b[0]) + abs(a[1] - b[1])\n",
    "\n",
    "def get_neighbors(x, y, cube):\n",
    "    directions = [(-1, 0), (1, 0), (0, -1), (0, 1)]  # Up, Down, Left, Right\n",
    "    neighbors = []\n",
    "    for dx, dy in directions:\n",
    "        nx, ny = x + dx, y + dy\n",
    "        if 0 <= nx < len(cube) and 0 <= ny < len(cube[0]):\n",
    "            if cube[nx][ny] == 0 or cube[nx][ny] == 2:  # Can move to empty space or short wall\n",
    "                neighbors.append((nx, ny))\n",
    "    return neighbors\n",
    "\n",
    "def a_star(cube):\n",
    "    start = (0, 0)\n",
    "    goal = (len(cube) - 1, len(cube[0]) - 1)\n",
    "    open_set = []\n",
    "    heapq.heappush(open_set, (0, start))\n",
    "    came_from = {}\n",
    "    g_score = {start: 0}\n",
    "    f_score = {start: heuristic(start, goal)}\n",
    "    short_walls = {start: 0}\n",
    "\n",
    "    while open_set:\n",
    "        _, current = heapq.heappop(open_set)\n",
    "\n",
    "        if current == goal:\n",
    "            path = []\n",
    "            while current in came_from:\n",
    "                path.append(current)\n",
    "                current = came_from[current]\n",
    "            path.append(start)\n",
    "            path.reverse()\n",
    "            return path\n",
    "\n",
    "        for neighbor in get_neighbors(current[0], current[1], cube):\n",
    "            tentative_g_score = g_score[current] + 1\n",
    "            tentative_short_walls = short_walls[current] + (1 if cube[neighbor[0]][neighbor[1]] == 2 else 0)\n",
    "\n",
    "            if neighbor not in g_score or tentative_g_score < g_score[neighbor] or tentative_short_walls < short_walls[neighbor]:\n",
    "                came_from[neighbor] = current\n",
    "                g_score[neighbor] = tentative_g_score\n",
    "                f_score[neighbor] = tentative_g_score + heuristic(neighbor, goal)\n",
    "                short_walls[neighbor] = tentative_short_walls\n",
    "                heapq.heappush(open_set, (f_score[neighbor], neighbor))\n",
    "\n",
    "    return -1\n",
    "\n",
    "filename = \"cubeAstar.txt\"\n",
    "cube = read_cube(filename)\n",
    "print(\"A* Path:\", a_star(cube))"
   ]
  }
 ],
 "metadata": {
  "kernelspec": {
   "display_name": "Python 3",
   "language": "python",
   "name": "python3"
  },
  "language_info": {
   "codemirror_mode": {
    "name": "ipython",
    "version": 3
   },
   "file_extension": ".py",
   "mimetype": "text/x-python",
   "name": "python",
   "nbconvert_exporter": "python",
   "pygments_lexer": "ipython3",
   "version": "3.12.3"
  }
 },
 "nbformat": 4,
 "nbformat_minor": 2
}
