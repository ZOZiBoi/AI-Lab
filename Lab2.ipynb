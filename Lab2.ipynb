{
 "cells": [
  {
   "cell_type": "markdown",
   "metadata": {},
   "source": [
    "### 6.1 Number of chickens (5 Marks)\n",
    "Given an int count of a number of chickens, return a string of the form 'Number of chickens:\n",
    "<count>', where <count> is the number passed in. However, if the count is 10 or more, then use\n",
    "the word 'many' instead of the actual count. So chickens(5) returns 'Number of chickens: 5' and\n",
    "chickens(23) returns 'Number of chickens: many'."
   ]
  },
  {
   "cell_type": "code",
   "execution_count": 3,
   "metadata": {},
   "outputs": [
    {
     "name": "stdout",
     "output_type": "stream",
     "text": [
      "Number of chickens: many\n"
     ]
    }
   ],
   "source": [
    "def main():\n",
    "    count = input(\"Enter number of chickens: \")\n",
    "    if int(count) < 10:\n",
    "        print(\"Number of chickens: \" + count)\n",
    "    else:\n",
    "        print(\"Number of chickens: many\")\n",
    "\n",
    "if __name__ == \"__main__\":\n",
    "    main()"
   ]
  },
  {
   "cell_type": "markdown",
   "metadata": {},
   "source": [
    "### 6.2 Strings from both ends (5 Marks)\n",
    "Create a string made of the first three and the last three characters of the original string s and return the new string, so 'intelligence' creates 'intcne'. However, if the string length is less than 3, return instead the empty string."
   ]
  },
  {
   "cell_type": "code",
   "execution_count": 1,
   "metadata": {},
   "outputs": [
    {
     "name": "stdout",
     "output_type": "stream",
     "text": [
      "intnce\n"
     ]
    }
   ],
   "source": [
    "def stringFromBothEnds(string1):\n",
    "    newString = string1[:3] + string1[len(string1) - 3:]\n",
    "    if len(newString) < 3:\n",
    "        return \"\"\n",
    "    else:\n",
    "        return newString\n",
    "    \n",
    "def main():\n",
    "    string1 = input(\"Enter the string:\")\n",
    "\n",
    "    print(stringFromBothEnds(string1))\n",
    " \n",
    "if __name__ == \"__main__\":\n",
    "    main()"
   ]
  },
  {
   "cell_type": "markdown",
   "metadata": {},
   "source": [
    "### 6.3 Replace occurrences of first character (5 Marks)\n",
    "For a given string s, create a new string such that it replaces some characters of the string with '@'. To replace, find the first character of the given string s. Now find all occurrences of this first character in the string and replace them with '@'. Do not change the first character itself. e.g. 'Ooogle' create 'O@@gle'\n",
    "\n",
    "Assume that the string is length 1 or more and take care of the word case. Hint:\n",
    "s.replace(stra, strb) returns a version of string s where all instances of stra have been\n",
    "replaced by strb."
   ]
  },
  {
   "cell_type": "code",
   "execution_count": null,
   "metadata": {},
   "outputs": [
    {
     "name": "stdout",
     "output_type": "stream",
     "text": [
      "O@@gle\n"
     ]
    }
   ],
   "source": [
    "def replaceFirstCharacterOccurences(s, character):\n",
    "    first_char = s[0]\n",
    "    s = first_char + s[1:].lower().replace(first_char.lower(), character)\n",
    "    return s\n",
    "\n",
    "def main():\n",
    "    s = input(\"Enter string: \")\n",
    "    print(replaceFirstCharacterOccurences(s, '@'))\n",
    "\n",
    "if __name__ == \"__main__\":\n",
    "    main()"
   ]
  },
  {
   "cell_type": "markdown",
   "metadata": {},
   "source": [
    "### 6.4 String jumble (5 Marks)\n",
    "Create a new string with the help of two input strings a and b. The new string should be\n",
    "separated by a space b/w a and b. Also swap the first 2 chars of each string and return it.\n",
    "e.g.\n",
    "'mix', pod' -> 'pox mid'\n",
    "'dog', 'dinner' -> 'dig donner'\n",
    "\n",
    "Assume a and b are length 2 or more."
   ]
  },
  {
   "cell_type": "code",
   "execution_count": 20,
   "metadata": {},
   "outputs": [
    {
     "name": "stdout",
     "output_type": "stream",
     "text": [
      "dig donner\n"
     ]
    }
   ],
   "source": [
    "def jumble(a, b):\n",
    "    first_two_a = a[0:2]\n",
    "    first_two_b = b[0:2]\n",
    "\n",
    "    a = a.replace(a[0:2], first_two_b, 1)\n",
    "    b = b.replace(b[0:2], first_two_a, 1)\n",
    "\n",
    "    return a + \" \" + b\n",
    "\n",
    "def main():\n",
    "    a = input(\"Enter first string: \")\n",
    "    b = input(\"Enter second string: \")\n",
    "\n",
    "    print(jumble(a, b))\n",
    "\n",
    "if __name__ == \"__main__\":\n",
    "    main()"
   ]
  },
  {
   "cell_type": "markdown",
   "metadata": {},
   "source": [
    "### 6.5 Matching first and last characters (5 Marks)\n",
    "Taking a list of strings as input, our matching function returns the count of the number of strings whose first and last chars of the string are the same.\n",
    "\n",
    "Also, only consider strings with length of 2 or more."
   ]
  },
  {
   "cell_type": "code",
   "execution_count": 2,
   "metadata": {},
   "outputs": [
    {
     "name": "stdout",
     "output_type": "stream",
     "text": [
      "6\n"
     ]
    }
   ],
   "source": [
    "def CountMatchingStartEnd(strings):\n",
    "    count = 0\n",
    "    for i in strings:\n",
    "        length = len(i)\n",
    "        if i[0] == i[length - 1]:\n",
    "            count += 1\n",
    "    return count\n",
    "\n",
    "def main():\n",
    "    strings = [\"apple\", \"racecar\", \"level\", \"broom\", \"civic\", \"radar\", \"hello\", \"world\", \"kayak\", \"noon\"]\n",
    "    print(CountMatchingStartEnd(strings))\n",
    "\n",
    "if __name__ == \"__main__\":\n",
    "    main()"
   ]
  },
  {
   "cell_type": "markdown",
   "metadata": {},
   "source": [
    "### 6.6 Sort tuple by last element (5 Marks)\n",
    "Given a list of non-empty tuples, return a list sorted in increasing order by the last element in each tuple.\n",
    "e.g. [(1, 7), (1, 3), (3, 4, 5), (2, 2)] creates [(2, 2), (1, 3), (3, 4, 5), (1, 7)]\n",
    "Hint: use a custom key= function to extract the last element form each tuple."
   ]
  },
  {
   "cell_type": "code",
   "execution_count": 4,
   "metadata": {},
   "outputs": [
    {
     "name": "stdout",
     "output_type": "stream",
     "text": [
      "[(2, 2), (1, 3), (3, 4, 5), (1, 7)]\n"
     ]
    }
   ],
   "source": [
    "tuple = [(1, 7), (1, 3), (3, 4, 5), (2, 2)]\n",
    "s = sorted(tuple, key=lambda x:x[-1])\n",
    "print(s)"
   ]
  },
  {
   "cell_type": "markdown",
   "metadata": {},
   "source": [
    "### 6.7 Initialize dictionary (4 Marks)\n",
    "Initialize dictionary with default values. One line solution.\n",
    "\n",
    "**Input:**\n",
    "\n",
    "employees = ['Kelly', 'Emma', 'John']\n",
    "defaults = {\"designation\": 'Application Developer', \"salary\": 8000}\n",
    "\n",
    "**Output:**\n",
    "\n",
    "{'Kelly': {'designation': 'Application Developer', 'salary': 8000}, 'Emma': {'designation': 'Application Developer', 'salary': 8000}, 'John': {'designation': 'Application Developer', 'salary':\n",
    "8000}}"
   ]
  },
  {
   "cell_type": "code",
   "execution_count": null,
   "metadata": {},
   "outputs": [
    {
     "name": "stdout",
     "output_type": "stream",
     "text": [
      "{'Kelly': {'designation': 'Application Developer', 'salary': 8000}, 'Emma': {'designation': 'Application Developer', 'salary': 8000}, 'John': {'designation': 'Application Developer', 'salary': 8000}}\n"
     ]
    }
   ],
   "source": [
    "employees = ['Kelly', 'Emma', 'John']\n",
    "details = {\"designation\": 'Application Developer', \"salary\": 8000}\n",
    "\n",
    "employee_dict = {employee: details.copy() for employee in employees} # one line solution\n",
    "print(employee_dict)"
   ]
  }
 ],
 "metadata": {
  "kernelspec": {
   "display_name": "Python 3",
   "language": "python",
   "name": "python3"
  },
  "language_info": {
   "codemirror_mode": {
    "name": "ipython",
    "version": 3
   },
   "file_extension": ".py",
   "mimetype": "text/x-python",
   "name": "python",
   "nbconvert_exporter": "python",
   "pygments_lexer": "ipython3",
   "version": "3.12.3"
  }
 },
 "nbformat": 4,
 "nbformat_minor": 2
}
